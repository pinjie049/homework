{
  "nbformat": 4,
  "nbformat_minor": 0,
  "metadata": {
    "colab": {
      "provenance": [],
      "authorship_tag": "ABX9TyP0k1RAKVISRjTkcj/mHloF",
      "include_colab_link": true
    },
    "kernelspec": {
      "name": "python3",
      "display_name": "Python 3"
    },
    "language_info": {
      "name": "python"
    }
  },
  "cells": [
    {
      "cell_type": "markdown",
      "metadata": {
        "id": "view-in-github",
        "colab_type": "text"
      },
      "source": [
        "<a href=\"https://colab.research.google.com/github/pinjie049/homework/blob/main/%E6%9C%9F%E6%9C%AB.ipynb\" target=\"_parent\"><img src=\"https://colab.research.google.com/assets/colab-badge.svg\" alt=\"Open In Colab\"/></a>"
      ]
    },
    {
      "cell_type": "code",
      "source": [
        "import itertools\n",
        "\n",
        "# 定義城市資訊\n",
        "cities = {\n",
        "    'A': {'coordinates': (0, 0), 'accommodation_cost': 2000, 'discount_previous_stay': ['C', 'G']},\n",
        "    'B': {'coordinates': (0, 120), 'accommodation_cost': 2400, 'discount_previous_stay': ['D', 'E']},\n",
        "    'C': {'coordinates': (30, 100), 'accommodation_cost': 2400, 'discount_previous_stay': ['G', 'A']},\n",
        "    'D': {'coordinates': (80, 0), 'accommodation_cost': 1600, 'discount_previous_stay': ['A', 'B']},\n",
        "    'E': {'coordinates': (45, 10), 'accommodation_cost': 1500, 'discount_previous_stay': ['B', 'F']},\n",
        "    'F': {'coordinates': (90, 160), 'accommodation_cost': 2200, 'discount_previous_stay': ['A', 'C']},\n",
        "    'G': {'coordinates': (120, 200), 'accommodation_cost': 1200, 'discount_previous_stay': ['E', 'F']}\n",
        "}\n",
        "\n",
        "# 定義兩城市之間的距離函數\n",
        "def distance(city1, city2):\n",
        "    x1, y1 = cities[city1]['coordinates']\n",
        "    x2, y2 = cities[city2]['coordinates']\n",
        "    return ((x2 - x1)**2 + (y2 - y1)**2) ** 0.5\n",
        "\n",
        "# 使用近似算法找出最便宜的旅遊方案\n",
        "def find_cheapest_route():\n",
        "    min_cost = float('inf')\n",
        "    best_route = []\n",
        "\n",
        "    # 遍歷所有城市的排列組合\n",
        "    for perm in itertools.permutations(cities.keys()):\n",
        "        # 確保起點和終點是同一個城市\n",
        "        perm = list(perm) + [perm[0]]\n",
        "\n",
        "        # 計算總花費\n",
        "        cost = 0\n",
        "        for i in range(len(perm) - 1):\n",
        "            current_city = perm[i]\n",
        "            next_city = perm[i + 1]\n",
        "\n",
        "            # 考慮上一站的住宿費用折扣\n",
        "            if next_city in cities[current_city]['discount_previous_stay']:\n",
        "                cost += distance(current_city, next_city) + cities[next_city]['accommodation_cost'] * 0.8\n",
        "            else:\n",
        "                cost += distance(current_city, next_city) + cities[next_city]['accommodation_cost']\n",
        "\n",
        "        # 更新最低花費的旅遊方案\n",
        "        if cost < min_cost:\n",
        "            min_cost = cost\n",
        "            best_route = perm\n",
        "\n",
        "    return min_cost, best_route\n",
        "\n",
        "# 執行近似算法找出最便宜的旅遊方案\n",
        "min_cost, best_route = find_cheapest_route()\n",
        "\n",
        "# 輸出結果\n",
        "print(\"最低花費: \", min_cost)\n",
        "print(\"旅遊路線: \", \"->\".join(best_route))\n"
      ],
      "metadata": {
        "colab": {
          "base_uri": "https://localhost:8080/"
        },
        "id": "VMrtTTPhHTnT",
        "outputId": "2cf8d294-5d8b-4a35-8f33-ce720a24c861"
      },
      "execution_count": 15,
      "outputs": [
        {
          "output_type": "stream",
          "name": "stdout",
          "text": [
            "最低花費:  11728.614597452106\n",
            "旅遊路線:  E->B->D->A->C->G->F->E\n"
          ]
        }
      ]
    }
  ]
}