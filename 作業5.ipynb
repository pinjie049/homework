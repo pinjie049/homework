{
  "nbformat": 4,
  "nbformat_minor": 0,
  "metadata": {
    "colab": {
      "provenance": [],
      "include_colab_link": true
    },
    "kernelspec": {
      "name": "python3",
      "display_name": "Python 3"
    },
    "language_info": {
      "name": "python"
    }
  },
  "cells": [
    {
      "cell_type": "markdown",
      "metadata": {
        "id": "view-in-github",
        "colab_type": "text"
      },
      "source": [
        "<a href=\"https://colab.research.google.com/github/pinjie049/homework/blob/main/%E4%BD%9C%E6%A5%AD5.ipynb\" target=\"_parent\"><img src=\"https://colab.research.google.com/assets/colab-badge.svg\" alt=\"Open In Colab\"/></a>"
      ]
    },
    {
      "cell_type": "code",
      "execution_count": null,
      "metadata": {
        "id": "azDs-3-hr-_g"
      },
      "outputs": [],
      "source": [
        "def quadratic_equation(x,a,b,c):\n",
        "    return ax**2+bx+c"
      ]
    },
    {
      "cell_type": "code",
      "source": [
        "a1,b1,c1=-3,4,7"
      ],
      "metadata": {
        "id": "4Tn5eIIBZq07"
      },
      "execution_count": null,
      "outputs": []
    },
    {
      "cell_type": "code",
      "source": [
        "a2,b2,c2=5,-4,9"
      ],
      "metadata": {
        "id": "3SH-Xj3waLRk"
      },
      "execution_count": null,
      "outputs": []
    },
    {
      "cell_type": "code",
      "source": [
        "d=(b**2)-(4*a*c)"
      ],
      "metadata": {
        "id": "laB0SOqyaUvy"
      },
      "execution_count": null,
      "outputs": []
    },
    {
      "cell_type": "code",
      "source": [
        "root1_1=(-b1+(b1**2-4*a1*c1))/(2*a1)\n",
        "root2_1=(-b1-(b1**2-4*a1*c1))/(2*a1)\n",
        "root1_2=(-b2+(b2**2-4*a2*c2))/(2*a2)\n",
        "root2_2=(-b2-(b2**2-4*a2*c2))/(2*a2)"
      ],
      "metadata": {
        "id": "p-p8JUH6dc0c"
      },
      "execution_count": null,
      "outputs": []
    },
    {
      "cell_type": "code",
      "source": [
        "vertex_x1=-b1/(2*a1)\n",
        "vertex_x2=-b2/(2*a2)"
      ],
      "metadata": {
        "id": "m_Ay4m9RdvpW"
      },
      "execution_count": null,
      "outputs": []
    },
    {
      "cell_type": "code",
      "source": [
        "vertex_y1=quadratic_equation(vertex_x1,a1,b1,c1)\n",
        "vertex_y2=quadratic_equation(vertex_x2,a2,b2,c2)"
      ],
      "metadata": {
        "id": "XlqTYgP78UZ4"
      },
      "execution_count": null,
      "outputs": []
    },
    {
      "cell_type": "code",
      "source": [
        "x=np.linspace(-10,10,100)"
      ],
      "metadata": {
        "id": "nDNiJjl_8c8j"
      },
      "execution_count": null,
      "outputs": []
    },
    {
      "cell_type": "code",
      "source": [
        "y1=quadratic_equation(x,a1,b1,c1)\n",
        "y2=quadratic_equation(x,a2,b2,c2)"
      ],
      "metadata": {
        "id": "sP-L9OEv8-p3"
      },
      "execution_count": null,
      "outputs": []
    }
  ]
}